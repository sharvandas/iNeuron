{
 "cells": [
  {
   "cell_type": "markdown",
   "id": "08588253",
   "metadata": {},
   "source": [
    "1. Write a Python Program to Find the Factorial of a Number?"
   ]
  },
  {
   "cell_type": "code",
   "execution_count": null,
   "id": "135170f2",
   "metadata": {},
   "outputs": [],
   "source": [
    "fact = 1\n",
    "num=int(input(\"Enter the Number: \"))\n",
    "print(\"factorial of the {} number is:\".format(num))\n",
    "for i in range(1,num+1):\n",
    "    fact= fact*i\n",
    "print(fact)"
   ]
  },
  {
   "cell_type": "markdown",
   "id": "8f9fb58b",
   "metadata": {},
   "source": [
    "2. Write a Python Program to Display the multiplication Table?"
   ]
  },
  {
   "cell_type": "code",
   "execution_count": null,
   "id": "68bfe4d6",
   "metadata": {},
   "outputs": [],
   "source": [
    "n = int(input(\"Enter the number to display the multiplication table: \"))\n",
    "mul = 1\n",
    "for i in range(1,11):\n",
    "    mul = n * i\n",
    "    print(\"{0} * {1} = {2}\".format(n,i,mul))\n"
   ]
  },
  {
   "cell_type": "markdown",
   "id": "96751a26",
   "metadata": {},
   "source": [
    "3. Write a Python Program to Print the Fibonacci sequence?"
   ]
  },
  {
   "cell_type": "code",
   "execution_count": null,
   "id": "fd0b1b38",
   "metadata": {},
   "outputs": [],
   "source": [
    "nu=int(input(\"enter the number(non-zero and non negative number) for the sequence of the fibonacci: \"))\n",
    "if nu == 1:\n",
    "    print(\"0\")\n",
    "elif nu==2:\n",
    "    print(\"0\\n1\")\n",
    "else:\n",
    "    a = 0\n",
    "    b = 1\n",
    "    lt=[]\n",
    "    print(a)\n",
    "    print(b)\n",
    "\n",
    "    for i in range(3,nu+1):\n",
    "        c = a + b\n",
    "        a = b\n",
    "        b = c\n",
    "        print(c)\n",
    "    "
   ]
  },
  {
   "cell_type": "markdown",
   "id": "0402af12",
   "metadata": {},
   "source": [
    "4. Write a Python Program to Check Armstrong Number?"
   ]
  },
  {
   "cell_type": "code",
   "execution_count": null,
   "id": "a22e52fc",
   "metadata": {},
   "outputs": [],
   "source": [
    "num=int(input(\"Enter the number to check the armstrong: \"))\n",
    "order = len(str(num))\n",
    "number = num\n",
    "sum = 0\n",
    "while num>0:\n",
    "    rem=num%10\n",
    "    sum = sum + (rem**order)\n",
    "    num = num // 10\n",
    "print(\"logic from armstrong\",sum)\n",
    "if sum == number:\n",
    "    print(\"The given number is armstrong number\")\n",
    "else:\n",
    "    print(\"The given number is not a armstrong number\")\n",
    "    "
   ]
  },
  {
   "cell_type": "markdown",
   "id": "1e69cbae",
   "metadata": {},
   "source": [
    "5. Write a Python Program to Find Armstrong Number in an Interval?"
   ]
  },
  {
   "cell_type": "code",
   "execution_count": null,
   "id": "14a49dd0",
   "metadata": {},
   "outputs": [],
   "source": [
    "fn = int(input(\"Enter the starting range: \"))\n",
    "sn = int(input(\"Enter the ending of the range: \"))\n",
    "\n",
    "for num in range(fn,sn+1):\n",
    "    order = len(str(num))\n",
    "    sum = 0\n",
    "    temp = num\n",
    "    while temp>0:\n",
    "        rem=temp%10\n",
    "        # sum = sum + rem ** order\n",
    "        sum += rem ** order\n",
    "        temp = temp // 10\n",
    "    if num == sum:\n",
    "        print(sum)"
   ]
  },
  {
   "cell_type": "markdown",
   "id": "a3b6a247",
   "metadata": {},
   "source": [
    "6. Write a Python Program to Find the Sum of Natural Numbers?"
   ]
  },
  {
   "cell_type": "code",
   "execution_count": 5,
   "id": "25267d58",
   "metadata": {},
   "outputs": [
    {
     "name": "stdout",
     "output_type": "stream",
     "text": [
      "Enter a number: 16\n",
      "sum 136\n"
     ]
    }
   ],
   "source": [
    "# 1,2,3\n",
    "num = int(input(\"Enter a number: \"))\n",
    "if num <= 0:\n",
    "    print(\"The input should be natural number. Please enter valid number.\")\n",
    "else:\n",
    "    sum = 0\n",
    "    for i in range(1,num+1):\n",
    "        sum=sum+i\n",
    "    print (\"sum\",sum)\n",
    "        "
   ]
  },
  {
   "cell_type": "code",
   "execution_count": null,
   "id": "5a42e42d",
   "metadata": {},
   "outputs": [],
   "source": []
  }
 ],
 "metadata": {
  "kernelspec": {
   "display_name": "Python 3",
   "language": "python",
   "name": "python3"
  },
  "language_info": {
   "codemirror_mode": {
    "name": "ipython",
    "version": 3
   },
   "file_extension": ".py",
   "mimetype": "text/x-python",
   "name": "python",
   "nbconvert_exporter": "python",
   "pygments_lexer": "ipython3",
   "version": "3.8.8"
  }
 },
 "nbformat": 4,
 "nbformat_minor": 5
}
