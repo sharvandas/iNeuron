{
 "cells": [
  {
   "cell_type": "markdown",
   "id": "0ff20a19",
   "metadata": {},
   "source": [
    "1. Write a Python Program to Find LCM?"
   ]
  },
  {
   "cell_type": "code",
   "execution_count": 16,
   "id": "c722f1e0",
   "metadata": {},
   "outputs": [
    {
     "name": "stdout",
     "output_type": "stream",
     "text": [
      "Enter the number: 300\n",
      "Enter the number: 400\n",
      "1200\n"
     ]
    }
   ],
   "source": [
    "num1= int(input(\"Enter the number: \"))\n",
    "num2= int(input(\"Enter the number: \"))\n",
    "if num1>num2:\n",
    "    max=num1\n",
    "else:\n",
    "    max=num2\n",
    "while (True):\n",
    "    if(max % num1 == 0 and max % num2 == 0):\n",
    "        print(max)\n",
    "        break;\n",
    "    max= max+ 1\n"
   ]
  },
  {
   "cell_type": "markdown",
   "id": "fe4262fe",
   "metadata": {},
   "source": [
    "2. Write a Python Program to Find HCF?"
   ]
  },
  {
   "cell_type": "code",
   "execution_count": 17,
   "id": "68f6f5c9",
   "metadata": {},
   "outputs": [
    {
     "name": "stdout",
     "output_type": "stream",
     "text": [
      "Enter the number: 12\n",
      "Enter the number: 60\n",
      "12\n"
     ]
    }
   ],
   "source": [
    "num1= int(input(\"Enter the number: \"))\n",
    "num2= int(input(\"Enter the number: \"))\n",
    "if num1<num2:\n",
    "    smaller=num1\n",
    "else:\n",
    "    smaller=num2\n",
    "for i in range(1, smaller+1):\n",
    "    if((num1 % i == 0) and (num2 % i == 0)):\n",
    "        hcf = i\n",
    "print(hcf)\n",
    "    "
   ]
  },
  {
   "cell_type": "markdown",
   "id": "c43cc205",
   "metadata": {},
   "source": [
    "3. Write a Python Program to Convert Decimal to Binary, Octal and Hexadecimal?"
   ]
  },
  {
   "cell_type": "code",
   "execution_count": 18,
   "id": "404cab27",
   "metadata": {},
   "outputs": [
    {
     "name": "stdout",
     "output_type": "stream",
     "text": [
      "Enter a decimal number for the conversion: 20\n",
      "Binary form: 0b10100\t octal form: 0o24\t hexadecimal: 20\n"
     ]
    }
   ],
   "source": [
    "n=int(input(\"Enter a decimal number for the conversion: \"))\n",
    "b=bin(n)\n",
    "o=oct(n)\n",
    "h=hex(n)\n",
    "print(\"Binary form: {0}\\t octal form: {1}\\t hexadecimal: {2}\".format(b,o,n))"
   ]
  },
  {
   "cell_type": "markdown",
   "id": "a3eabeb3",
   "metadata": {},
   "source": [
    "4. Write a Python Program To Find ASCII value of a character?"
   ]
  },
  {
   "cell_type": "code",
   "execution_count": 19,
   "id": "aa270e01",
   "metadata": {},
   "outputs": [
    {
     "name": "stdout",
     "output_type": "stream",
     "text": [
      "Enter Character: d\n",
      "ASCII value of the character is d = 100\n"
     ]
    }
   ],
   "source": [
    "c = input(\"Enter Character: \")\n",
    "print(\"ASCII value of the character is {} =\".format(c),ord(c))"
   ]
  },
  {
   "cell_type": "markdown",
   "id": "11eb38b5",
   "metadata": {},
   "source": [
    "5. Write a Python Program to Make a Simple Calculator with 4 basic mathematical operations?"
   ]
  },
  {
   "cell_type": "code",
   "execution_count": 20,
   "id": "585a8987",
   "metadata": {},
   "outputs": [
    {
     "name": "stdout",
     "output_type": "stream",
     "text": [
      "Enter two numbers to perform the mathematical operation: \n",
      "Enter the first number: 10\n",
      "Enter the second number: 5\n",
      "The result of the 4 basic mathematical operation is given below: \n",
      "two numbers are 10 and 5 \n",
      " 1.Addition: 15 \n",
      " 2.Subtraction: 5\n",
      " 3.Multiplication: 50 \n",
      " 4.Division: 2 \n"
     ]
    }
   ],
   "source": [
    "print(\"Enter two numbers to perform the mathematical operation: \")\n",
    "n1=int(input(\"Enter the first number: \"))\n",
    "n2=int(input(\"Enter the second number: \"))\n",
    "add=n1+n2\n",
    "sub=n1-n2\n",
    "mul=n1*n2\n",
    "div=n1//n2\n",
    "print(\"The result of the 4 basic mathematical operation is given below: \")\n",
    "print(\"two numbers are {} and {} \\n 1.Addition: {} \\n 2.Subtraction: {}\\n 3.Multiplication: {} \\n 4.Division: {} \"\n",
    ".format(n1,n2,add,sub,mul,div))"
   ]
  },
  {
   "cell_type": "code",
   "execution_count": null,
   "id": "c831c9a6",
   "metadata": {},
   "outputs": [],
   "source": []
  }
 ],
 "metadata": {
  "kernelspec": {
   "display_name": "Python 3",
   "language": "python",
   "name": "python3"
  },
  "language_info": {
   "codemirror_mode": {
    "name": "ipython",
    "version": 3
   },
   "file_extension": ".py",
   "mimetype": "text/x-python",
   "name": "python",
   "nbconvert_exporter": "python",
   "pygments_lexer": "ipython3",
   "version": "3.8.8"
  }
 },
 "nbformat": 4,
 "nbformat_minor": 5
}
