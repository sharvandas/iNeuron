{
 "cells": [
  {
   "cell_type": "markdown",
   "id": "3442c8c1",
   "metadata": {},
   "source": [
    "1. Write a Python program to convert kilometers to miles?"
   ]
  },
  {
   "cell_type": "code",
   "execution_count": 21,
   "id": "5ce554c3",
   "metadata": {},
   "outputs": [
    {
     "name": "stdout",
     "output_type": "stream",
     "text": [
      "Enter the number of Km:3\n",
      "3.0 km is equal to 1.8641135699999998 miles\n"
     ]
    }
   ],
   "source": [
    "\"\"\"constant for converting kilometers in miles is 0.62137119\"\"\"\n",
    "c=0.62137119\n",
    "km=float(input(\"Enter the number of Km:\"))\n",
    "mile=km*c\n",
    "print(\"{} km is equal to {} miles\".format(km,mile))"
   ]
  },
  {
   "cell_type": "markdown",
   "id": "6615bcf6",
   "metadata": {},
   "source": [
    "2. Write a Python program to convert Celsius to Fahrenheit?"
   ]
  },
  {
   "cell_type": "code",
   "execution_count": 22,
   "id": "c12e0e92",
   "metadata": {},
   "outputs": [
    {
     "name": "stdout",
     "output_type": "stream",
     "text": [
      "Enter the input in celsius: 33\n",
      "Celsius after converting into fahrenheit:  91.4\n"
     ]
    }
   ],
   "source": [
    "cel=float(input(\"Enter the input in celsius: \"))\n",
    "fht=cel*1.8 + 32\n",
    "print(\"Celsius after converting into fahrenheit: \",fht)"
   ]
  },
  {
   "cell_type": "markdown",
   "id": "73fd25a1",
   "metadata": {},
   "source": [
    "3. Write a Python program to display calendar?"
   ]
  },
  {
   "cell_type": "code",
   "execution_count": 28,
   "id": "823f8a01",
   "metadata": {},
   "outputs": [
    {
     "name": "stdout",
     "output_type": "stream",
     "text": [
      "Enter year: 2\n",
      "Enter month: 3\n",
      "Enter date: 4\n",
      "             March 2\n",
      "Mon  Tue  Wed  Thu  Fri  Sat  Sun\n",
      "                      1    2    3\n",
      "  4    5    6    7    8    9   10\n",
      " 11   12   13   14   15   16   17\n",
      " 18   19   20   21   22   23   24\n",
      " 25   26   27   28   29   30   31\n",
      "\n"
     ]
    }
   ],
   "source": [
    "import calendar\n",
    "y=int(input(\"Enter year: \"))\n",
    "m=int(input(\"Enter month: \"))\n",
    "d=int(input(\"Enter date: \"))\n",
    "print(calendar.month(y,m,d))"
   ]
  },
  {
   "cell_type": "markdown",
   "id": "a9293a9e",
   "metadata": {},
   "source": [
    "4. Write a Python program to solve quadratic equation?"
   ]
  },
  {
   "cell_type": "code",
   "execution_count": 32,
   "id": "a80ef7fb",
   "metadata": {},
   "outputs": [
    {
     "name": "stdout",
     "output_type": "stream",
     "text": [
      "Enter the value of a: 2\n",
      "Enter the value of b: 3\n",
      "Enter the value of c: 4\n",
      "Solution of the quardatic equation is (-3+1.1989578808281798j) and (-3-1.1989578808281798j)\n"
     ]
    }
   ],
   "source": [
    "\"\"\"formula for quardatic equation ax2+bx+c=0\n",
    "\n",
    "solution = -b+\\-root under d divided by 2a\n",
    "\"\"\"\n",
    "import cmath\n",
    "a=int(input(\"Enter the value of a: \"))\n",
    "b=int(input(\"Enter the value of b: \"))\n",
    "c=int(input(\"Enter the value of c: \"))\n",
    "d=b**2-(4*a*c)\n",
    "sol1=-b+(cmath.sqrt(d))/(2*a)\n",
    "sol2=-b-(cmath.sqrt(d))/(2*a)\n",
    "print(\"Solution of the quardatic equation is\",sol1, \"and\", sol2)"
   ]
  },
  {
   "cell_type": "markdown",
   "id": "2bdc4b2b",
   "metadata": {},
   "source": [
    "5. Write a Python program to swap two variables without temp variable?"
   ]
  },
  {
   "cell_type": "code",
   "execution_count": 36,
   "id": "7046b3a6",
   "metadata": {},
   "outputs": [
    {
     "name": "stdout",
     "output_type": "stream",
     "text": [
      "Enter the value of a: sharvan\n",
      "Enter the value of b: raj\n",
      "a:  sharvan b:  raj\n",
      "a:  raj b:  sharvan\n"
     ]
    }
   ],
   "source": [
    "a=input(\"Enter the value of a: \")\n",
    "b=input(\"Enter the value of b: \")\n",
    "print(\"a: \",a,\"b: \",b)\n",
    "(a,b)=(b,a)\n",
    "print(\"a: \",a,\"b: \",b)"
   ]
  },
  {
   "cell_type": "code",
   "execution_count": null,
   "id": "aa6b33e7",
   "metadata": {},
   "outputs": [],
   "source": []
  }
 ],
 "metadata": {
  "kernelspec": {
   "display_name": "Python 3",
   "language": "python",
   "name": "python3"
  },
  "language_info": {
   "codemirror_mode": {
    "name": "ipython",
    "version": 3
   },
   "file_extension": ".py",
   "mimetype": "text/x-python",
   "name": "python",
   "nbconvert_exporter": "python",
   "pygments_lexer": "ipython3",
   "version": "3.8.8"
  }
 },
 "nbformat": 4,
 "nbformat_minor": 5
}
