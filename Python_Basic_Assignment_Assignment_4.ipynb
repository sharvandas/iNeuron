{
  "nbformat": 4,
  "nbformat_minor": 0,
  "metadata": {
    "colab": {
      "name": "Python Basic Assignment - Assignment_4.ipynb",
      "provenance": [],
      "collapsed_sections": []
    },
    "kernelspec": {
      "name": "python3",
      "display_name": "Python 3"
    },
    "language_info": {
      "name": "python"
    }
  },
  "cells": [
    {
      "cell_type": "markdown",
      "source": [
        "\n",
        "\n",
        "---\n",
        "\n"
      ],
      "metadata": {
        "id": "jJuP2j7il92x"
      }
    },
    {
      "cell_type": "markdown",
      "source": [
        "**Python Basic Assignment - Assignment_4**"
      ],
      "metadata": {
        "id": "kCBIsDUsl96u"
      }
    },
    {
      "cell_type": "markdown",
      "source": [
        "**Q.1.** What exactly is []?"
      ],
      "metadata": {
        "id": "dJG5l3RUl99L"
      }
    },
    {
      "cell_type": "markdown",
      "source": [
        "**Ans.** In python, a list is created by placing elements inside square brackets [], seperated by comma \",\". Also allows to create a list and it's contents in your program.\n",
        "\n",
        "known as Index brackets - \"[]\". We can also tell this as an empty list value. i.e, no value in the list.\n"
      ],
      "metadata": {
        "id": "c7dNeUoSmfCv"
      }
    },
    {
      "cell_type": "markdown",
      "source": [
        "**Q.2.**  In a list of values stored in a variable called spam, how would you assign the value &#39;hello&#39; as the\n",
        "third value? (Assume [2, 4, 6, 8, 10] are in spam.)"
      ],
      "metadata": {
        "id": "E4naeCgHmfKn"
      }
    },
    {
      "cell_type": "markdown",
      "source": [
        "**Ans.** spam[2] = \"hello\", as the start index value starts with 0, so the third value will be - 2\n"
      ],
      "metadata": {
        "id": "bJ8hCeoHmfXd"
      }
    },
    {
      "cell_type": "code",
      "source": [
        "spam = [2,4,6,8,10]\n",
        "print(spam)\n",
        "spam[2] = \"hello\"\n",
        "print(\"After assigning the value\",spam[2],\" at third position: \",spam)"
      ],
      "metadata": {
        "colab": {
          "base_uri": "https://localhost:8080/"
        },
        "id": "UzCmQ_8WpHxe",
        "outputId": "90a925d0-f8ed-4ae0-d128-8c6cfb19a2bc"
      },
      "execution_count": 1,
      "outputs": [
        {
          "output_type": "stream",
          "name": "stdout",
          "text": [
            "[2, 4, 6, 8, 10]\n",
            "After assigning the value hello  at third position:  [2, 4, 'hello', 8, 10]\n"
          ]
        }
      ]
    },
    {
      "cell_type": "markdown",
      "source": [
        "Let&#39;s pretend the spam includes the list [&#39;a&#39;, &#39;b&#39;, &#39;c&#39;, &#39;d&#39;] for the next three queries.\n",
        "\n",
        "**Q.3.** What is the value of spam[int(int(&#39;3&#39; * 2) / 11)]?"
      ],
      "metadata": {
        "id": "t-7tF0LPmflL"
      }
    },
    {
      "cell_type": "markdown",
      "source": [
        "**Ans.** To answer the above question, we will go through by breakingit, and solving the brackets first. \n",
        "\n",
        "('3' * 2) = '33'\n",
        "\n",
        "int(33)/11 = 33/11 = 3.0\n",
        "\n",
        "int(3.0) = 3\n",
        "\n",
        "spam[3] = 'd'\n",
        "\n",
        "spam[int(int('3' * 2) / 11)] = d, d is the answer.\n"
      ],
      "metadata": {
        "id": "y5ECnWePmfwE"
      }
    },
    {
      "cell_type": "code",
      "source": [
        "spam = ['a', 'b', 'c', 'd'] \n",
        "print(spam[int(int('3' * 2) / 11)])\n",
        "\n"
      ],
      "metadata": {
        "colab": {
          "base_uri": "https://localhost:8080/"
        },
        "id": "RpyS2biysNZo",
        "outputId": "ffd534ee-a1d1-4c13-e3ec-2988e5d17001"
      },
      "execution_count": 5,
      "outputs": [
        {
          "output_type": "stream",
          "name": "stdout",
          "text": [
            "d\n"
          ]
        }
      ]
    },
    {
      "cell_type": "markdown",
      "source": [
        "**Q.4.** What is the value of spam[-1]?"
      ],
      "metadata": {
        "id": "5WH60bWJmf84"
      }
    },
    {
      "cell_type": "markdown",
      "source": [
        "**Ans.** with index -1, it will give the last element of the list spam.\n",
        "\n",
        "spam[-1] = d\n"
      ],
      "metadata": {
        "id": "rfSFBV2BmgIC"
      }
    },
    {
      "cell_type": "code",
      "source": [
        "print(spam[-1])"
      ],
      "metadata": {
        "colab": {
          "base_uri": "https://localhost:8080/"
        },
        "id": "gTRxFaBHtjmx",
        "outputId": "f4a5bd02-d147-4f3f-fba0-938cc7408736"
      },
      "execution_count": 6,
      "outputs": [
        {
          "output_type": "stream",
          "name": "stdout",
          "text": [
            "d\n"
          ]
        }
      ]
    },
    {
      "cell_type": "markdown",
      "source": [
        "**Q.5** What is the value of spam[:2]?"
      ],
      "metadata": {
        "id": "-iGXKmALmgVf"
      }
    },
    {
      "cell_type": "markdown",
      "source": [
        "**Ans.** staring from the 0th index till before 2nd index. i.e,\n",
        "\n",
        "'a', 'b'"
      ],
      "metadata": {
        "id": "UIOCQWlVmgif"
      }
    },
    {
      "cell_type": "code",
      "source": [
        "print(spam[:2])"
      ],
      "metadata": {
        "colab": {
          "base_uri": "https://localhost:8080/"
        },
        "id": "Y8b_m7FIunWf",
        "outputId": "43e811b1-b0e9-4f8e-ed2d-5abc907b029b"
      },
      "execution_count": 22,
      "outputs": [
        {
          "output_type": "stream",
          "name": "stdout",
          "text": [
            "['a', 'b']\n"
          ]
        }
      ]
    },
    {
      "cell_type": "markdown",
      "source": [
        "Let&#39;s pretend bacon has the list [3.14, &#39;cat,&#39; 11, &#39;cat,&#39; True] for the next three questions.\n",
        "\n",
        "**Q.6.** What is the value of bacon.index(&#39;cat&#39;)?"
      ],
      "metadata": {
        "id": "FeN1HMdGmgvd"
      }
    },
    {
      "cell_type": "markdown",
      "source": [
        "**Ans.** bacon.index('cat') = 1, \n",
        "\n",
        "it start searching from index 0 and when the element = cat is found, it will return the index. \n"
      ],
      "metadata": {
        "id": "dl2gomXLmg8S"
      }
    },
    {
      "cell_type": "code",
      "source": [
        " bacon = [3.14, 'cat', 11, 'cat', True] \n",
        " bacon.index('cat')"
      ],
      "metadata": {
        "colab": {
          "base_uri": "https://localhost:8080/"
        },
        "id": "zgXvIf2dvK8Q",
        "outputId": "eeb42832-eed8-4f88-b0d2-46a61d41d9c0"
      },
      "execution_count": 23,
      "outputs": [
        {
          "output_type": "execute_result",
          "data": {
            "text/plain": [
              "1"
            ]
          },
          "metadata": {},
          "execution_count": 23
        }
      ]
    },
    {
      "cell_type": "markdown",
      "source": [
        "**Q.7.** How does bacon.append(99) change the look of the list value in bacon?"
      ],
      "metadata": {
        "id": "tdKWCtWUmhLP"
      }
    },
    {
      "cell_type": "markdown",
      "source": [
        "**Ans.**  Append is the in-built method, when it is called, it will add element to the end of the list.\n",
        "\n",
        "\n",
        "so, bacon becomes as  bacon = [3.14, 'cat', 11, 'cat', True, 99] \n"
      ],
      "metadata": {
        "id": "dT_KY7vKmhYh"
      }
    },
    {
      "cell_type": "code",
      "source": [
        " bacon = [3.14, 'cat', 11, 'cat', True] \n",
        "bacon.append(99)\n",
        "bacon"
      ],
      "metadata": {
        "colab": {
          "base_uri": "https://localhost:8080/"
        },
        "id": "dbt_qPSpxFAB",
        "outputId": "db961f01-030c-4256-aa0e-b96078b7bf5e"
      },
      "execution_count": 41,
      "outputs": [
        {
          "output_type": "execute_result",
          "data": {
            "text/plain": [
              "[3.14, 'cat', 11, 'cat', True, 99]"
            ]
          },
          "metadata": {},
          "execution_count": 41
        }
      ]
    },
    {
      "cell_type": "markdown",
      "source": [
        "**Q.8** How does bacon.remove(&#39;cat&#39;) change the look of the list in bacon?"
      ],
      "metadata": {
        "id": "nKLr_7xRmhkU"
      }
    },
    {
      "cell_type": "markdown",
      "source": [
        "**Ans.** The remove command will find the 'cat' element and delete it. Also indexing of all the element next to cat element will change. It start searching from index 0 and when the element is found, delete it. method removes the first matching value.\n"
      ],
      "metadata": {
        "id": "oyFlN8Odmhvn"
      }
    },
    {
      "cell_type": "code",
      "source": [
        "print(bacon)\n",
        "bacon.remove('cat')\n",
        "print(bacon)\n"
      ],
      "metadata": {
        "colab": {
          "base_uri": "https://localhost:8080/"
        },
        "id": "zXUbR7l8yCbG",
        "outputId": "f45437ff-bdfc-41f4-934f-375488317787"
      },
      "execution_count": 42,
      "outputs": [
        {
          "output_type": "stream",
          "name": "stdout",
          "text": [
            "[3.14, 'cat', 11, 'cat', True, 99]\n",
            "[3.14, 11, 'cat', True, 99]\n"
          ]
        }
      ]
    },
    {
      "cell_type": "markdown",
      "source": [
        "**Q.9.** What are the list concatenation and list replication operators?"
      ],
      "metadata": {
        "id": "PshYYVEEmh7P"
      }
    },
    {
      "cell_type": "markdown",
      "source": [
        "**Ans.** Operators - Special symbol in python that carries mathematical or logical operations. \n",
        "\n",
        "Concatenation operator - '+' , add two string\n",
        "replication operator - '*' ,  when multiplied with n, gives n number of copies.\n"
      ],
      "metadata": {
        "id": "wmxwVjPQmiJI"
      }
    },
    {
      "cell_type": "markdown",
      "source": [
        "**Q.10.** What is difference between the list methods append() and insert()?"
      ],
      "metadata": {
        "id": "0jPcfBiCmiUS"
      }
    },
    {
      "cell_type": "markdown",
      "source": [
        "**Ans.**\n",
        "Both are the in built Function/methhod, The differences are listed given below - \n",
        "\n",
        "append() - Append method add the element only at the end of the list.\n",
        "\n",
        "where as \n",
        "\n",
        "insert() - Insert method allows to add a specific element  at a specified index of the list."
      ],
      "metadata": {
        "id": "HUP9b4z4mifK"
      }
    },
    {
      "cell_type": "code",
      "source": [
        "bacon\n",
        "bacon.insert(0,\"hello\")\n",
        "print(bacon)\n",
        "bacon.append(\"hello\")\n",
        "print(bacon)"
      ],
      "metadata": {
        "colab": {
          "base_uri": "https://localhost:8080/"
        },
        "id": "OXR8LLOl2D5V",
        "outputId": "a4163c6c-ef28-4b94-9130-5e618ddbccd8"
      },
      "execution_count": 43,
      "outputs": [
        {
          "output_type": "stream",
          "name": "stdout",
          "text": [
            "['hello', 3.14, 11, 'cat', True, 99]\n",
            "['hello', 3.14, 11, 'cat', True, 99, 'hello']\n"
          ]
        }
      ]
    },
    {
      "cell_type": "markdown",
      "source": [
        "**Q.11.** What are the two methods for removing items from a list?"
      ],
      "metadata": {
        "id": "9p3kQi3CmirY"
      }
    },
    {
      "cell_type": "markdown",
      "source": [
        "**Ans.** 1. remove() - method removes the first matching value.\n",
        "\n",
        "2. pop() - method removes the item from the specified index/position\n"
      ],
      "metadata": {
        "id": "PzDzNwstmi3L"
      }
    },
    {
      "cell_type": "code",
      "source": [
        "print(bacon)\n",
        "bacon.remove(\"hello\")\n",
        "print(bacon)\n",
        "bacon.pop(5)\n",
        "print(bacon)"
      ],
      "metadata": {
        "colab": {
          "base_uri": "https://localhost:8080/"
        },
        "id": "vpq7Rcu_4IEz",
        "outputId": "7cda617f-bf26-4a74-cf2a-0e2ae3502619"
      },
      "execution_count": 44,
      "outputs": [
        {
          "output_type": "stream",
          "name": "stdout",
          "text": [
            "['hello', 3.14, 11, 'cat', True, 99, 'hello']\n",
            "[3.14, 11, 'cat', True, 99, 'hello']\n",
            "[3.14, 11, 'cat', True, 99]\n"
          ]
        }
      ]
    },
    {
      "cell_type": "markdown",
      "source": [
        "**Q.12.** Describe how list values and string values are identical."
      ],
      "metadata": {
        "id": "zJHgtAgCmjDG"
      }
    },
    {
      "cell_type": "markdown",
      "source": [
        "**Ans.**\n",
        "The similarity between Lists and strings in python is that both are sequences.\n",
        "When they are accessed with index they gives identical/similar output."
      ],
      "metadata": {
        "id": "0RFd-ZxymjN1"
      }
    },
    {
      "cell_type": "code",
      "source": [
        "name1 = ['S','h','a','r','v','a','n']\n",
        "name2 = \"Sharvan\"\n",
        "print(name1[1])\n",
        "print(name2[1])\n",
        "print(name1[0:4], \" = \",name2[0:4])"
      ],
      "metadata": {
        "colab": {
          "base_uri": "https://localhost:8080/"
        },
        "id": "8OfzK7WY9OE5",
        "outputId": "cc312fae-a76c-49f1-fdc3-e51d66154820"
      },
      "execution_count": 48,
      "outputs": [
        {
          "output_type": "stream",
          "name": "stdout",
          "text": [
            "h\n",
            "h\n",
            "['S', 'h', 'a', 'r']  =  Shar\n"
          ]
        }
      ]
    },
    {
      "cell_type": "markdown",
      "source": [
        "**Q.13.** What&#39;s the difference between tuples and lists?"
      ],
      "metadata": {
        "id": "bx2W_ou9mjay"
      }
    },
    {
      "cell_type": "markdown",
      "source": [
        "**Ans.**\n",
        "The key difference between the tuple and list is - The Tuple is immutable, cannot be changed. But the lists are mutable, can be modified."
      ],
      "metadata": {
        "id": "cIj20r5fmjoP"
      }
    },
    {
      "cell_type": "code",
      "source": [
        "#list\n",
        "ex1 = [1,2,3,4,5,6]\n",
        "ex1[3] = 100\n",
        "print(ex1) "
      ],
      "metadata": {
        "colab": {
          "base_uri": "https://localhost:8080/"
        },
        "id": "LgJQ9Wgf--6j",
        "outputId": "0bb69143-276b-4ac4-8991-1e002c0f3fd2"
      },
      "execution_count": 49,
      "outputs": [
        {
          "output_type": "stream",
          "name": "stdout",
          "text": [
            "[1, 2, 3, 100, 5, 6]\n"
          ]
        }
      ]
    },
    {
      "cell_type": "code",
      "source": [
        "#tuple\n",
        "ex2 = (1,2,3,4,5,6)\n",
        "try:\n",
        "  ex2[3] = 100\n",
        "except:\n",
        "  print(\" Type Error: 'tuple' object does not support item assignment\")"
      ],
      "metadata": {
        "colab": {
          "base_uri": "https://localhost:8080/"
        },
        "id": "d32PJwWc_NIo",
        "outputId": "cbf711ff-8cb9-44f7-ef71-3114a633d8ff"
      },
      "execution_count": 52,
      "outputs": [
        {
          "output_type": "stream",
          "name": "stdout",
          "text": [
            " Type Error: 'tuple' object does not support item assignment\n"
          ]
        }
      ]
    },
    {
      "cell_type": "markdown",
      "source": [
        "**Q.14** How do you type a tuple value that only contains the integer 42?"
      ],
      "metadata": {
        "id": "iIbciZUqmkRT"
      }
    },
    {
      "cell_type": "markdown",
      "source": [
        "**Ans.**\n",
        "we can use the given command - \n",
        "tuple_data = (42)"
      ],
      "metadata": {
        "id": "q5SMopKLl9_r"
      }
    },
    {
      "cell_type": "code",
      "source": [
        "tuple_data = (42)\n",
        "print(tuple_data)\n",
        "print(type(tuple_data))"
      ],
      "metadata": {
        "colab": {
          "base_uri": "https://localhost:8080/"
        },
        "id": "CvecchWpAMuf",
        "outputId": "52c5e2f6-8d7a-47c4-c699-8bb62919723d"
      },
      "execution_count": 56,
      "outputs": [
        {
          "output_type": "stream",
          "name": "stdout",
          "text": [
            "42\n",
            "<class 'int'>\n"
          ]
        }
      ]
    },
    {
      "cell_type": "markdown",
      "source": [
        "**Q.15** How do you get a list value&#39;s tuple form? How do you get a tuple value&#39;s list form?"
      ],
      "metadata": {
        "id": "61Gprt4sl-DP"
      }
    },
    {
      "cell_type": "markdown",
      "source": [
        "**Ans.**\n",
        "To get a list value in tuple form, we will use keyword tuple. Inside the tuple we will pass the list.\n",
        "data1 = [1,2,3,4]\n",
        "data2 = tuple(data1)\n",
        "print(\"normal list\",data1)\n",
        "print(\"list in tuple form\",data2)\n",
        "\n",
        "Also, To get a tuple value in list form, we will use keyword list. Inside the list we will pass the tuple.\n",
        "data3 = (1,2,3,4,5,6,7,8)\n",
        "data4 = list(data3)\n",
        "print(\"normal tuple\",data3)\n",
        "print(\"tuple in list form\",data4)\n"
      ],
      "metadata": {
        "id": "Qnacxum5l-GY"
      }
    },
    {
      "cell_type": "code",
      "source": [
        "data1 = [1,2,3,4]\n",
        "data2 = tuple(data1)\n",
        "print(\"normal list\",data1)\n",
        "print(\"list in tuple form\",data2)\n",
        "data3 = (1,2,3,4,5,6,7,8)\n",
        "data4 = list(data3)\n",
        "print(\"normal tuple\",data3)\n",
        "print(\"tuple in list form\",data4)"
      ],
      "metadata": {
        "colab": {
          "base_uri": "https://localhost:8080/"
        },
        "id": "dwAB8ZoEBlpO",
        "outputId": "061b29e4-662c-4b58-bc5d-5b5ad3977ed7"
      },
      "execution_count": 6,
      "outputs": [
        {
          "output_type": "stream",
          "name": "stdout",
          "text": [
            "normal list [1, 2, 3, 4]\n",
            "list in tuple form (1, 2, 3, 4)\n",
            "normal tuple (1, 2, 3, 4, 5, 6, 7, 8)\n",
            "tuple in list form [1, 2, 3, 4, 5, 6, 7, 8]\n"
          ]
        }
      ]
    },
    {
      "cell_type": "markdown",
      "source": [
        "**Q.16.** Variables that &quot;contain&quot; list values are not necessarily lists themselves. Instead, what do they\n",
        "contain?"
      ],
      "metadata": {
        "id": "lUW8Elxdl-J1"
      }
    },
    {
      "cell_type": "markdown",
      "source": [
        "**Ans.**\n",
        "Variables will contain references to list values rather than list values themselves.\n",
        "\n",
        "But for strings and integer values, variables simply contain the string or integer value."
      ],
      "metadata": {
        "id": "ROl-y6ASl-MD"
      }
    },
    {
      "cell_type": "markdown",
      "source": [
        "**Q.17** How do you distinguish between copy.copy() and copy.deepcopy()?"
      ],
      "metadata": {
        "id": "QJ8-zfUNl-Qj"
      }
    },
    {
      "cell_type": "markdown",
      "source": [
        "**Ans.**\n",
        "copy.copy() returns returns a shallow copy of list. A shallow copy constructs a new compound object and then (to the extent possible) inserts references into it to the objects found in the original.\n",
        "\n",
        "copy.deepcopy() returns a deep copy of list. A deep copy constructs a new compound object and then, recursively, inserts copies into it of the objects found in the original."
      ],
      "metadata": {
        "id": "AVBUW0HQl-Ta"
      }
    },
    {
      "cell_type": "code",
      "source": [
        "# Example of deepcopy\n",
        "import copy\n",
        "\n",
        "old_list = [[1, 1, 1], [2, 2, 2], [3, 3, 3]]\n",
        "new_list = copy.deepcopy(old_list)\n",
        "\n",
        "print(\"Old list:\", old_list)\n",
        "print(\"New list:\", new_list)"
      ],
      "metadata": {
        "colab": {
          "base_uri": "https://localhost:8080/"
        },
        "id": "zNpsY7KrNsxN",
        "outputId": "a91d13ff-3e70-42b3-c7fe-ac972cc823a2"
      },
      "execution_count": 21,
      "outputs": [
        {
          "output_type": "stream",
          "name": "stdout",
          "text": [
            "Old list: [[1, 1, 1], [2, 2, 2], [3, 3, 3]]\n",
            "New list: [[1, 1, 1], [2, 2, 2], [3, 3, 3]]\n"
          ]
        }
      ]
    },
    {
      "cell_type": "code",
      "source": [
        "\n",
        "old_list = [[1, 1, 1], [2, 2, 2], [3, 3, 3]]\n",
        "new_list = copy.deepcopy(old_list)\n",
        "\n",
        "old_list[1][0] = 'BB'\n",
        "\n",
        "print(\"Old list:\", old_list)\n",
        "print(\"New list:\", new_list)\n"
      ],
      "metadata": {
        "colab": {
          "base_uri": "https://localhost:8080/"
        },
        "id": "f8XRwau0N1Nv",
        "outputId": "24632be3-46df-42ce-99e8-7a708e1a3a2f"
      },
      "execution_count": 22,
      "outputs": [
        {
          "output_type": "stream",
          "name": "stdout",
          "text": [
            "Old list: [[1, 1, 1], ['BB', 2, 2], [3, 3, 3]]\n",
            "New list: [[1, 1, 1], [2, 2, 2], [3, 3, 3]]\n"
          ]
        }
      ]
    },
    {
      "cell_type": "code",
      "source": [
        "# Example of Copy\n",
        "old_list1 = [[1, 2, 3], [2, 3, 4], [3, 4, 5]]\n",
        "new_list1 = copy.copy(old_list1)\n",
        "\n",
        "print(\"Old list1:\", old_list1)\n",
        "print(\"New list1:\", new_list1)"
      ],
      "metadata": {
        "colab": {
          "base_uri": "https://localhost:8080/"
        },
        "id": "m_GAP83eS5Xq",
        "outputId": "af94c871-04a4-46b5-84a4-487017e0e750"
      },
      "execution_count": 23,
      "outputs": [
        {
          "output_type": "stream",
          "name": "stdout",
          "text": [
            "Old list: [[1, 2, 3], [2, 3, 4], [3, 4, 5]]\n",
            "New list: [[1, 2, 3], [2, 3, 4], [3, 4, 5]]\n"
          ]
        }
      ]
    },
    {
      "cell_type": "code",
      "source": [
        "old_list1 = [[1, 2, 3], [2, 3, 4], [3, 4, 5]]\n",
        "new_list1 = copy.copy(old_list1)\n",
        "old_list1[1][0] = 'BBAA'\n",
        "\n",
        "print(\"Old list1:\", old_list1)\n",
        "print(\"New list1:\", new_list1)"
      ],
      "metadata": {
        "colab": {
          "base_uri": "https://localhost:8080/"
        },
        "id": "Lt8i80ZZTNGI",
        "outputId": "33a4568d-6961-43f3-aecb-811790177a6d"
      },
      "execution_count": 24,
      "outputs": [
        {
          "output_type": "stream",
          "name": "stdout",
          "text": [
            "Old list1: [[1, 2, 3], ['BBAA', 3, 4], [3, 4, 5]]\n",
            "New list1: [[1, 2, 3], ['BBAA', 3, 4], [3, 4, 5]]\n"
          ]
        }
      ]
    },
    {
      "cell_type": "code",
      "source": [
        ""
      ],
      "metadata": {
        "id": "_BxoX4POTfnS"
      },
      "execution_count": null,
      "outputs": []
    }
  ]
}