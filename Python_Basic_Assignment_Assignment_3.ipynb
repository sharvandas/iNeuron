{
  "nbformat": 4,
  "nbformat_minor": 0,
  "metadata": {
    "colab": {
      "name": "Python Basic Assignment- Assignment_3.ipynb",
      "provenance": [],
      "collapsed_sections": []
    },
    "kernelspec": {
      "name": "python3",
      "display_name": "Python 3"
    },
    "language_info": {
      "name": "python"
    }
  },
  "cells": [
    {
      "cell_type": "markdown",
      "source": [
        "**Python basic assignment - Assignment_3**"
      ],
      "metadata": {
        "id": "5XY_-eglvqhA"
      }
    },
    {
      "cell_type": "markdown",
      "source": [
        "**Q.1.** Why are functions advantageous to have in your programs?"
      ],
      "metadata": {
        "id": "SsYm2SOKslwm"
      }
    },
    {
      "cell_type": "markdown",
      "source": [
        "**Ans.** The advantages of functions in python program are give below - \n",
        "1. Functions helps us to divide large programs into small groups.\n",
        "2. It makes easier to read the code.\n",
        "3. We can debug the program in faster and better way.\n",
        "4. We can bind the logic in one def and then call the as many times required.\n",
        "5. Reusability is the main achievement of functions.\n"
      ],
      "metadata": {
        "id": "4O7ZrTQ8s8sQ"
      }
    },
    {
      "cell_type": "markdown",
      "source": [
        "**Q.2.**  When does the code in a function run: when it&#39;s specified or when it&#39;s called?\n"
      ],
      "metadata": {
        "id": "qgUY7dPNvmoc"
      }
    },
    {
      "cell_type": "markdown",
      "source": [
        "**Ans.** The code in a function run when it is called.   \n",
        "As when the function is called, the program control jumps to that function defination and executes the statements inside the function body. After executing the body of the function, the program control jumps back to the part of the program which called the function, and resumes execution at that point. "
      ],
      "metadata": {
        "id": "D7uO19Hqv1tv"
      }
    },
    {
      "cell_type": "markdown",
      "source": [
        "**Q.3.** What statement creates a function?"
      ],
      "metadata": {
        "id": "oNyhY6z-zMd6"
      }
    },
    {
      "cell_type": "markdown",
      "source": [
        "**Ans.** A function is created with **def** keyword.The statement in the block of the function must be indented.The def keyword is followed by the function name and the round bracktes and a colon. ex - def solve():"
      ],
      "metadata": {
        "id": "zu8d4yy6zMgJ"
      }
    },
    {
      "cell_type": "markdown",
      "source": [
        "**Q.4.** What is the difference between a function and a function call?"
      ],
      "metadata": {
        "id": "JJDPNWWAzMkh"
      }
    },
    {
      "cell_type": "markdown",
      "source": [
        "**Ans.** A **function** is procedure to achieve a particular result. So, to achieve the task, we define set of statements and on executing those statements, we will get our required result. A **function call** is using this function to achive **that task**. In order to exectue the code of a function we call the function."
      ],
      "metadata": {
        "id": "vLrYHCRa2a1X"
      }
    },
    {
      "cell_type": "markdown",
      "source": [
        "**Q.5.** How many global scopes are there in a Python program? How many local scopes?\n"
      ],
      "metadata": {
        "id": "MjmjUWmV2a4A"
      }
    },
    {
      "cell_type": "markdown",
      "source": [
        "**Ans.** A variable declared outside of the function or in global scope is known as a global scope. There is only one global python scope per program execution. This scope remains in existence until the program terminates and all its names are forgotten. \n",
        "\n",
        "A variable declared inside a function's body or in the local scope is known as local variable. This scope remains only within the function. \n"
      ],
      "metadata": {
        "id": "Ne5gGHsl2a7j"
      }
    },
    {
      "cell_type": "markdown",
      "source": [
        "**Q.6.** What happens to variables in a local scope when the function call returns?\n"
      ],
      "metadata": {
        "id": "nPSG-m_42bRl"
      }
    },
    {
      "cell_type": "markdown",
      "source": [
        "**Ans.** When the function call returns, then the variable in a local scope are destroyed. local variables disappear after the function returns."
      ],
      "metadata": {
        "id": "CMc5Fa7i2biP"
      }
    },
    {
      "cell_type": "markdown",
      "source": [
        "**Q.7.** What is the concept of a return value? Is it possible to have a return value in an expression?\n"
      ],
      "metadata": {
        "id": "UOOe0ViuzMnc"
      }
    },
    {
      "cell_type": "markdown",
      "source": [
        "**Ans.** A return statement is used to end the execution of the function call and returns the result (value of the expression following the return Keyword) to the caller. The statement after the return statement is not executed. If the return statement is without ant expression, then the special value **None** is returned. \n",
        "\n",
        "Return statement cannot be used outside the function.\n",
        "\n",
        "Yes, we can have return value as an expression."
      ],
      "metadata": {
        "id": "WuEgZ4PmYqga"
      }
    },
    {
      "cell_type": "markdown",
      "source": [
        "**Q.8.** If a function does not have a return statement, what is the return value of a call to that function?\n"
      ],
      "metadata": {
        "id": "GAS1c2p7YqpT"
      }
    },
    {
      "cell_type": "markdown",
      "source": [
        "**Ans.** If no return statement appears in a function defination, control automatically returns to the calling function after the last statement of the called function is executed. In case the return value of the called function is **undefined/None**"
      ],
      "metadata": {
        "id": "HoO06UBQYqu1"
      }
    },
    {
      "cell_type": "markdown",
      "source": [
        "**Q.9.** How do you make a function variable refer to the global variable?"
      ],
      "metadata": {
        "id": "5UWBhYvCYq3h"
      }
    },
    {
      "cell_type": "markdown",
      "source": [
        "**Ans.** Variables that are created outside of a function, arfe known as global variables. Global variables can be used by everyone, both inside of function and outside.\n",
        "\n",
        "To make a function variable as global variable we need to use **global** keyword.  \n",
        "\n",
        "def myfunc():\n",
        "\n",
        "    global x\n",
        "    x = \"easy\"\n",
        "\n",
        "myfunc()\n",
        "\n",
        "print(\"Python is \" + x)\n",
        "\n",
        "Python is easy"
      ],
      "metadata": {
        "id": "NnBAC1--eFF2"
      }
    },
    {
      "cell_type": "markdown",
      "source": [
        "**Q.10.** What is the data type of None?"
      ],
      "metadata": {
        "id": "0MrHjN-2eGQo"
      }
    },
    {
      "cell_type": "markdown",
      "source": [
        "**Ans.** The  None keyword is used to define a null, or a no value. None is not the same as 0, False, or an empty string. None is a data type of its own \"None Type\"."
      ],
      "metadata": {
        "id": "G5T2hJvNeGe8"
      }
    },
    {
      "cell_type": "markdown",
      "source": [
        "**Q.11.** What does the sentence import areallyourpetsnamederic do?\n"
      ],
      "metadata": {
        "id": "6p9dVijTeGtB"
      }
    },
    {
      "cell_type": "markdown",
      "source": [
        "**Ans. Import** , Python modules can get access to code from another module by importing the file/function using import.\n",
        "\n",
        "As in the question, the import statement import module named areallyourpetsnamederic.\n"
      ],
      "metadata": {
        "id": "Jso-LA82eHU4"
      }
    },
    {
      "cell_type": "markdown",
      "source": [
        "**Q.12.** If you had a bacon() feature in a spam module, what would you call it after importing spam?"
      ],
      "metadata": {
        "id": "650zUURMh_Ge"
      }
    },
    {
      "cell_type": "markdown",
      "source": [
        "**Ans.** After importing spam, we can call -\n",
        "\n",
        "spam.bacon()"
      ],
      "metadata": {
        "id": "saqdkY6Yh_JJ"
      }
    },
    {
      "cell_type": "markdown",
      "source": [
        "**Q.13.** What can you do to save a programme from crashing if it encounters an error?"
      ],
      "metadata": {
        "id": "KsrCqHfEh_NF"
      }
    },
    {
      "cell_type": "markdown",
      "source": [
        "**Ans.** Using try and except clause can prevent the programme from crashing. We can move our code inside a try and except statement."
      ],
      "metadata": {
        "id": "Vrr9ukIPh_Qd"
      }
    },
    {
      "cell_type": "markdown",
      "source": [
        "**Q.14.** What is the purpose of the try clause? What is the purpose of the except clause?"
      ],
      "metadata": {
        "id": "_gS4pVrWh_So"
      }
    },
    {
      "cell_type": "markdown",
      "source": [
        "**Ans.** Try and except clause is used to handle exceptions. \n",
        "\n",
        "Python executes code following the try statement as a normal part of the program.\n",
        "\n",
        "The code that follows the except statement in the program's response to any exception that is occured in the try block.\n",
        "\n",
        "try:\n",
        "\n",
        "    #run the code\n",
        "\n",
        "except:\n",
        "\n",
        "    #Execute this code when there is an exception in try block. \n",
        "\n"
      ],
      "metadata": {
        "id": "032tkRv5h_Uz"
      }
    }
  ]
}