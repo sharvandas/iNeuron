{
 "cells": [
  {
   "cell_type": "markdown",
   "id": "e5bec8ec",
   "metadata": {},
   "source": [
    "1. In the below elements which of them are values or an expression? eg:- values can be\n",
    "integer or string and expressions will be mathematical operators."
   ]
  },
  {
   "cell_type": "code",
   "execution_count": 58,
   "id": "f651df34",
   "metadata": {},
   "outputs": [
    {
     "data": {
      "text/plain": [
       "\"\\n* - expression\\n'hello' - value\\n-87.8 - value\\n- - expression\\n/ - expression\\n+ - expression\\n6 - value\\n\""
      ]
     },
     "execution_count": 58,
     "metadata": {},
     "output_type": "execute_result"
    }
   ],
   "source": [
    "\"\"\"\n",
    "* - expression\n",
    "'hello' - value\n",
    "-87.8 - value\n",
    "- - expression\n",
    "/ - expression\n",
    "+ - expression\n",
    "6 - value\n",
    "\"\"\""
   ]
  },
  {
   "cell_type": "markdown",
   "id": "ba475463",
   "metadata": {},
   "source": [
    "2. What is the difference between string and variable"
   ]
  },
  {
   "cell_type": "code",
   "execution_count": 59,
   "id": "9de80ed5",
   "metadata": {},
   "outputs": [
    {
     "name": "stdout",
     "output_type": "stream",
     "text": [
      "Hi, I am string. you can use me to print accourding to what you want to present\n",
      "I am a numerical number for example 10\n"
     ]
    }
   ],
   "source": [
    "\"\"\"String - A string is the representation of a text\"\"\"\n",
    "print(\"Hi, I am string. you can use me to print accourding to what you want to present\")\n",
    "\n",
    "\n",
    "\"\"\"Variable - A variable is name that can refer any value, that we can use for various purpose\n",
    "(mathematical operaction / representing)\"\"\"\n",
    "a=10\n",
    "b = \"I am a numerical number for example\" \n",
    "print(b, a)"
   ]
  },
  {
   "cell_type": "markdown",
   "id": "80a68d8b",
   "metadata": {},
   "source": [
    "3. Describe three different data types."
   ]
  },
  {
   "cell_type": "code",
   "execution_count": 60,
   "id": "a891a110",
   "metadata": {},
   "outputs": [
    {
     "name": "stdout",
     "output_type": "stream",
     "text": [
      "5 I am number five True\n"
     ]
    }
   ],
   "source": [
    "\"\"\"1. Numeric Data Type - int - 5, float - 5.5 or 5.0\n",
    "int - A int is a data type which is used to represent a integer.\"\"\"\n",
    "a= 5\n",
    "\n",
    "\n",
    "\n",
    "\"\"\"string - A string is the representation of a text, surrounded by either single quotation marks, or double quotation marks.\"\"\"\n",
    "b = \"I am number five\"\n",
    "\n",
    "\n",
    "\"\"\"Boolean - Boolean stores two value either True or False\"\"\"\n",
    "c=True\n",
    "\n",
    "print(a,b,c)"
   ]
  },
  {
   "cell_type": "markdown",
   "id": "cf9e4115",
   "metadata": {},
   "source": [
    "3. What is an expression made up of? What do all expressions do?"
   ]
  },
  {
   "cell_type": "code",
   "execution_count": 61,
   "id": "b92ca682",
   "metadata": {},
   "outputs": [
    {
     "data": {
      "text/plain": [
       "'The expression is made up of combination values, variables and operators. Expression evaluates the operation and gives result.'"
      ]
     },
     "execution_count": 61,
     "metadata": {},
     "output_type": "execute_result"
    }
   ],
   "source": [
    "\"\"\"The expression is made up of combination values, variables and operators. Expression evaluates the operation and gives result.\"\"\""
   ]
  },
  {
   "cell_type": "markdown",
   "id": "3629a5f5",
   "metadata": {},
   "source": [
    "5. This assignment statements, like spam = 10. What is the difference between an\n",
    "expression and a statement?"
   ]
  },
  {
   "cell_type": "code",
   "execution_count": 62,
   "id": "d26f56d6",
   "metadata": {},
   "outputs": [
    {
     "data": {
      "text/plain": [
       "\"As in the question -\\nspam = 10\\nhere expression is '=' and which is used for equal to operations.\\nbut as assignment statements, value 10 is stored in spam variable. '=' is used for the assigning value.\""
      ]
     },
     "execution_count": 62,
     "metadata": {},
     "output_type": "execute_result"
    }
   ],
   "source": [
    "\"\"\"As in the question -\n",
    "spam = 10\n",
    "here expression is '=' and which is used for equal to operations.\n",
    "but as assignment statements, value 10 is stored in spam variable. '=' is used for the assigning value.\"\"\""
   ]
  },
  {
   "cell_type": "markdown",
   "id": "6a9819fc",
   "metadata": {},
   "source": [
    "6. After running the following code, what does the variable bacon contain?\n",
    "bacon = 22\n",
    "bacon + 1"
   ]
  },
  {
   "cell_type": "code",
   "execution_count": 63,
   "id": "d74a5df4",
   "metadata": {},
   "outputs": [
    {
     "data": {
      "text/plain": [
       "23"
      ]
     },
     "execution_count": 63,
     "metadata": {},
     "output_type": "execute_result"
    }
   ],
   "source": [
    "\"Answer is 23\"\n",
    "bacon = 22\n",
    "bacon + 1"
   ]
  },
  {
   "cell_type": "markdown",
   "id": "8df58f20",
   "metadata": {},
   "source": [
    "7. What should the values of the following two terms be?\n",
    "'spam' + 'spamspam'\n",
    "'spam' * 3"
   ]
  },
  {
   "cell_type": "code",
   "execution_count": 64,
   "id": "0c716ad7",
   "metadata": {},
   "outputs": [],
   "source": [
    "\"\"\"Answeris 'spamspamspam'\n",
    "and spamspamspam \"\"\"\n",
    "c='spam' + 'spamspam'\n",
    "x='spam' * 3"
   ]
  },
  {
   "cell_type": "code",
   "execution_count": 65,
   "id": "ca31dfd4",
   "metadata": {},
   "outputs": [
    {
     "name": "stdout",
     "output_type": "stream",
     "text": [
      "spamspamspam spamspamspam\n"
     ]
    }
   ],
   "source": [
    "print (c,x)"
   ]
  },
  {
   "cell_type": "markdown",
   "id": "051b29a9",
   "metadata": {},
   "source": [
    "8. Why is eggs a valid variable name while 100 is invalid?"
   ]
  },
  {
   "cell_type": "code",
   "execution_count": 66,
   "id": "cb23f064",
   "metadata": {},
   "outputs": [
    {
     "data": {
      "text/plain": [
       "'It is the voilation of naming convention of variable, It should start with _ or alphabet. A variable cannot be a number, eg- 100'"
      ]
     },
     "execution_count": 66,
     "metadata": {},
     "output_type": "execute_result"
    }
   ],
   "source": [
    "\"\"\"It is the voilation of naming convention of variable, It should start with _ or alphabet. A variable cannot be a number, eg- 100\"\"\""
   ]
  },
  {
   "cell_type": "markdown",
   "id": "6c8e14f5",
   "metadata": {},
   "source": [
    "9. What three functions can be used to get the integer, floating-point number, or string\n",
    "version of a value?"
   ]
  },
  {
   "cell_type": "code",
   "execution_count": 67,
   "id": "a77f8333",
   "metadata": {},
   "outputs": [
    {
     "name": "stdout",
     "output_type": "stream",
     "text": [
      "\n"
     ]
    },
    {
     "ename": "ValueError",
     "evalue": "invalid literal for int() with base 10: ''",
     "output_type": "error",
     "traceback": [
      "\u001b[1;31m---------------------------------------------------------------------------\u001b[0m",
      "\u001b[1;31mValueError\u001b[0m                                Traceback (most recent call last)",
      "\u001b[1;32m<ipython-input-67-533ab0a80f70>\u001b[0m in \u001b[0;36m<module>\u001b[1;34m\u001b[0m\n\u001b[0;32m      4\u001b[0m \u001b[1;34m\"\"\"The above inbuilt fuction can be used\"\"\"\u001b[0m\u001b[1;33m\u001b[0m\u001b[1;33m\u001b[0m\u001b[0m\n\u001b[0;32m      5\u001b[0m \u001b[1;33m\u001b[0m\u001b[0m\n\u001b[1;32m----> 6\u001b[1;33m \u001b[0mp\u001b[0m \u001b[1;33m=\u001b[0m \u001b[0mint\u001b[0m\u001b[1;33m(\u001b[0m\u001b[0minput\u001b[0m\u001b[1;33m(\u001b[0m\u001b[1;33m)\u001b[0m\u001b[1;33m)\u001b[0m\u001b[1;33m\u001b[0m\u001b[1;33m\u001b[0m\u001b[0m\n\u001b[0m\u001b[0;32m      7\u001b[0m \u001b[0mq\u001b[0m \u001b[1;33m=\u001b[0m \u001b[0mfloat\u001b[0m\u001b[1;33m(\u001b[0m\u001b[0minput\u001b[0m\u001b[1;33m(\u001b[0m\u001b[1;33m)\u001b[0m\u001b[1;33m)\u001b[0m\u001b[1;33m\u001b[0m\u001b[1;33m\u001b[0m\u001b[0m\n\u001b[0;32m      8\u001b[0m \u001b[0mr\u001b[0m \u001b[1;33m=\u001b[0m \u001b[0mstr\u001b[0m\u001b[1;33m(\u001b[0m\u001b[0minput\u001b[0m\u001b[1;33m(\u001b[0m\u001b[1;33m)\u001b[0m\u001b[1;33m)\u001b[0m\u001b[1;33m\u001b[0m\u001b[1;33m\u001b[0m\u001b[0m\n",
      "\u001b[1;31mValueError\u001b[0m: invalid literal for int() with base 10: ''"
     ]
    }
   ],
   "source": [
    "int()\n",
    "float()\n",
    "str()\n",
    "\"\"\"The above inbuilt fuction can be used\"\"\"\n",
    "\n",
    "p = int(input())\n",
    "q = float(input())\n",
    "r = str(input())\n",
    "print(p,q,r)\n"
   ]
  },
  {
   "cell_type": "code",
   "execution_count": 68,
   "id": "50718b04",
   "metadata": {},
   "outputs": [
    {
     "name": "stdout",
     "output_type": "stream",
     "text": [
      "Object `it` not found.\n"
     ]
    },
    {
     "ename": "TypeError",
     "evalue": "can only concatenate str (not \"int\") to str",
     "output_type": "error",
     "traceback": [
      "\u001b[1;31m---------------------------------------------------------------------------\u001b[0m",
      "\u001b[1;31mTypeError\u001b[0m                                 Traceback (most recent call last)",
      "\u001b[1;32m<ipython-input-68-56dd06840768>\u001b[0m in \u001b[0;36m<module>\u001b[1;34m\u001b[0m\n\u001b[0;32m      1\u001b[0m \u001b[0mget_ipython\u001b[0m\u001b[1;33m(\u001b[0m\u001b[1;33m)\u001b[0m\u001b[1;33m.\u001b[0m\u001b[0mrun_line_magic\u001b[0m\u001b[1;33m(\u001b[0m\u001b[1;34m'pinfo'\u001b[0m\u001b[1;33m,\u001b[0m \u001b[1;34m'it'\u001b[0m\u001b[1;33m)\u001b[0m\u001b[1;33m\u001b[0m\u001b[1;33m\u001b[0m\u001b[0m\n\u001b[1;32m----> 2\u001b[1;33m \u001b[1;34m'I have eaten'\u001b[0m \u001b[1;33m+\u001b[0m \u001b[1;36m99\u001b[0m \u001b[1;33m+\u001b[0m \u001b[1;34m'burritos.'\u001b[0m\u001b[1;33m;\u001b[0m\u001b[1;33m\u001b[0m\u001b[1;33m\u001b[0m\u001b[0m\n\u001b[0m",
      "\u001b[1;31mTypeError\u001b[0m: can only concatenate str (not \"int\") to str"
     ]
    }
   ],
   "source": [
    "10. Why does this expression cause an error? How can you fix it?\n",
    "'I have eaten' + 99 + 'burritos.';"
   ]
  },
  {
   "cell_type": "code",
   "execution_count": 69,
   "id": "23c40ad4",
   "metadata": {},
   "outputs": [],
   "source": [
    "eaten= 'I have eaten' + ' 99 ' + 'burritos.';\n",
    "#or\n",
    "eaten1 = 'I have eaten' + str(99) + 'burritos.';"
   ]
  },
  {
   "cell_type": "code",
   "execution_count": 70,
   "id": "850e20c8",
   "metadata": {},
   "outputs": [
    {
     "name": "stdout",
     "output_type": "stream",
     "text": [
      "I have eaten 99 burritos.\n"
     ]
    }
   ],
   "source": [
    "print(eaten)"
   ]
  },
  {
   "cell_type": "code",
   "execution_count": 71,
   "id": "0518cecf",
   "metadata": {},
   "outputs": [
    {
     "name": "stdout",
     "output_type": "stream",
     "text": [
      "I have eaten99burritos.\n"
     ]
    }
   ],
   "source": [
    "print(eaten1)"
   ]
  },
  {
   "cell_type": "code",
   "execution_count": null,
   "id": "7ac3d6b9",
   "metadata": {},
   "outputs": [],
   "source": []
  },
  {
   "cell_type": "code",
   "execution_count": null,
   "id": "66224b44",
   "metadata": {},
   "outputs": [],
   "source": []
  },
  {
   "cell_type": "code",
   "execution_count": null,
   "id": "4a025ddb",
   "metadata": {},
   "outputs": [],
   "source": []
  },
  {
   "cell_type": "code",
   "execution_count": null,
   "id": "138132bd",
   "metadata": {},
   "outputs": [],
   "source": []
  }
 ],
 "metadata": {
  "kernelspec": {
   "display_name": "Python 3",
   "language": "python",
   "name": "python3"
  },
  "language_info": {
   "codemirror_mode": {
    "name": "ipython",
    "version": 3
   },
   "file_extension": ".py",
   "mimetype": "text/x-python",
   "name": "python",
   "nbconvert_exporter": "python",
   "pygments_lexer": "ipython3",
   "version": "3.8.8"
  }
 },
 "nbformat": 4,
 "nbformat_minor": 5
}
